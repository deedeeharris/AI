{
  "nbformat": 4,
  "nbformat_minor": 0,
  "metadata": {
    "colab": {
      "provenance": [],
      "toc_visible": true,
      "authorship_tag": "ABX9TyPLLoQjITEGlHVpEwuUZ1vG",
      "include_colab_link": true
    },
    "kernelspec": {
      "name": "python3",
      "display_name": "Python 3"
    },
    "language_info": {
      "name": "python"
    }
  },
  "cells": [
    {
      "cell_type": "markdown",
      "metadata": {
        "id": "view-in-github",
        "colab_type": "text"
      },
      "source": [
        "<a href=\"https://colab.research.google.com/github/deedeeharris/AI/blob/main/Democratizing_Data_Analysis_Yedidya_Harris.ipynb\" target=\"_parent\"><img src=\"https://colab.research.google.com/assets/colab-badge.svg\" alt=\"Open In Colab\"/></a>"
      ]
    },
    {
      "cell_type": "markdown",
      "source": [
        "# Democratizing Data Analysis\n",
        "\n",
        "**Yedidya Harris**\n",
        "\n",
        "<div align=\"left\">\n",
        "  <a href=\"https://github.com/deedeeharris/\" style=\"text-decoration:none;\">\n",
        "    <img src=\"https://github.com/ultralytics/assets/raw/main/social/logo-social-github.png\" width=\"2%\" alt=\"\" /></a>\n",
        "  <img src=\"https://github.com/ultralytics/assets/raw/main/social/logo-transparent.png\" width=\"2%\" alt=\"\" />\n",
        "  <a href=\"https://www.linkedin.com/in/yedidya-harris\" style=\"text-decoration:none;\">\n",
        "    <img src=\"https://github.com/ultralytics/assets/raw/main/social/logo-social-linkedin.png\" width=\"2%\" alt=\"\" /></a></a>\n",
        "<br></br>\n",
        "\n",
        "Analyze your data **without knowing a single line of code!**\n",
        "\n",
        "Introducing \"Democratizing Data Analysis\" - a user-friendly tool that generates Python code for you. Upload your data, copy the prompt, and paste it into ChatGPT. Explore your data effortlessly and make data-driven decisions with ease. Try \"Democratizing Data Analysis\" now!\n",
        "\n",
        "**Instructions:**\n",
        "\n",
        "1. Fill out your first question regarding your data.\n",
        "2. Press the play button, to run the code cell.\n",
        "3. Upload a CSV or Excel file using the \"Choose Files\" button.\n",
        "3. After uploading the file, a prompt will be generated with the necessary information to assist you with data analysis and visualization.\n",
        "4. Copy the entire prompt (using the COPY button) and paste it into the ChatGPT window to receive Python code for your data analysis task.\n",
        "5. Copy the code that ChatGPT generated into a new code cell here.\n",
        "6. Press the play button, and enjoy the new graph.\n",
        "\n",
        "To generate more graphs and insights, ask in the ChatGPT interface questions, and repeat step 5 and 6.\n",
        "\n",
        "\n",
        "**Congratulations! You can now visualize and analyze data without knowing a line of code.**\n",
        "\n",
        "\n",
        "\n",
        "\n"
      ],
      "metadata": {
        "id": "IJY6nXY5Mq-x"
      }
    },
    {
      "cell_type": "code",
      "source": [
        "# @title Fill in your first question, run and upload your file! { display-mode: \"form\" }\n",
        "\n",
        "from google.colab import files\n",
        "from IPython.display import HTML, Javascript, clear_output  # Import the clear_output function\n",
        "import pandas as pd\n",
        "import os\n",
        "\n",
        "First_Question = '' #@param {type:\"string\"}\n",
        "\n",
        "def upload_csv_or_excel(First_Question):\n",
        "    try:\n",
        "        print(\"Please upload a CSV or Excel file:\")\n",
        "        print(\"\\n\\n\")\n",
        "        uploaded = files.upload()\n",
        "\n",
        "        for file_name, file_content in uploaded.items():\n",
        "            if file_name.endswith('.csv'):\n",
        "                df = pd.read_csv(file_name)\n",
        "                file_type = \"CSV\"\n",
        "            elif file_name.endswith('.xlsx') or file_name.endswith('.xls'):\n",
        "                df = pd.read_excel(file_name)\n",
        "                file_type = \"Excel\"\n",
        "            else:\n",
        "                print(f\"Unsupported file format for {file_name}. Only CSV and Excel files are supported.\")\n",
        "                return\n",
        "\n",
        "            # Get the full file path\n",
        "            file_path = os.path.abspath(file_name)\n",
        "\n",
        "            print(\"\\n\\n\")\n",
        "\n",
        "            prompt = f\"\"\"\n",
        "Act as a senior Python Data Analyst. You will be provided with a file path of a xlsx file or a csv file, and information regarding it.\n",
        "Your task is to generate Python code according to the user's request, related to data analysis and visualization.\n",
        "You should return the entire code in one message. Please note that you should not return any additional explanations or markdown text,\n",
        "only the Python code with detailed comments.\n",
        "This is the path to my file: \"{file_path}\"\n",
        "\n",
        "My first task is: {First_Question}\n",
        "\"\"\"\n",
        "\n",
        "            summary_statistics = df.describe()\n",
        "            missing_values = df.isnull().sum()\n",
        "            df_info = df.info()\n",
        "            df_cols = df.columns\n",
        "            df_head = df.head()\n",
        "            df_dtypes = df.dtypes\n",
        "\n",
        "            # Generate the JavaScript code to copy the output to the clipboard\n",
        "            js_code = f'''\n",
        "            function copyToClipboard() {{\n",
        "                const textToCopy = `{prompt}\\n\\nColumns:\\\\n{df_cols}\\n\\\\nData Types:\\\\n{df_dtypes}\\n\\\\nSample Data:\\\\n{df_head}\\n\\\\n\n",
        "Summary Statistics:\\\\n{summary_statistics}\\n\\\\nFile info:\\\\n{df_info}\\n\\\\nMissing Values:\\\\n{missing_values}`;\n",
        "                navigator.clipboard.writeText(textToCopy);\n",
        "                alert('Output copied to clipboard!');\n",
        "            }}\n",
        "            '''\n",
        "\n",
        "            # Clear the output on the screen before displaying the button\n",
        "            clear_output()\n",
        "\n",
        "            print(\"\\n\\n\")\n",
        "\n",
        "            # Display the copy button using HTML and JavaScript\n",
        "            display(HTML('<button onclick=\"copyToClipboard()\">Click Here to Copy</button>'))\n",
        "            display(Javascript(js_code))\n",
        "\n",
        "            return df\n",
        "\n",
        "    except Exception as e:\n",
        "        print(\"An error occurred:\", str(e))\n",
        "\n",
        "\n",
        "df = upload_csv_or_excel(First_Question)\n"
      ],
      "metadata": {
        "colab": {
          "base_uri": "https://localhost:8080/",
          "height": 90
        },
        "id": "Vz7FeSs6fdsi",
        "outputId": "6bbff207-e96d-4297-95b9-15731a36eefa"
      },
      "execution_count": 47,
      "outputs": [
        {
          "output_type": "stream",
          "name": "stdout",
          "text": [
            "\n",
            "\n",
            "\n"
          ]
        },
        {
          "output_type": "display_data",
          "data": {
            "text/plain": [
              "<IPython.core.display.HTML object>"
            ],
            "text/html": [
              "<button onclick=\"copyToClipboard()\">Click Here to Copy</button>"
            ]
          },
          "metadata": {}
        },
        {
          "output_type": "display_data",
          "data": {
            "text/plain": [
              "<IPython.core.display.Javascript object>"
            ],
            "application/javascript": [
              "\n",
              "            function copyToClipboard() {\n",
              "                const textToCopy = `\n",
              "Act as a senior Python Data Analyst. You will be provided with a file path of a xlsx file or a csv file, and information regarding it.\n",
              "Your task is to generate Python code according to the user's request, related to data analysis and visualization.\n",
              "You should return the entire code in one message. Please note that you should not return any additional explanations or markdown text,\n",
              "only the Python code with detailed comments.\n",
              "This is the path to my file: \"/content/output (3).xlsx\"\n",
              "\n",
              "My first task is: barplot\n",
              "\n",
              "\n",
              "Columns:\\nIndex(['keyword', 'Under 100 Reviews Top 15 Organic',\n",
              "       '2K Plus Under 100 Reviews', '10K Plus Under 350 Reviews',\n",
              "       'Under 10K Over 350 Reviews', 'New Listings within 12 Months',\n",
              "       'Page 1 Avg Revenue', 'Page 1 Avg Price', 'Page 1 Avg Reviews'],\n",
              "      dtype='object')\n",
              "\\nData Types:\\nkeyword                             object\n",
              "Under 100 Reviews Top 15 Organic     int64\n",
              "2K Plus Under 100 Reviews            int64\n",
              "10K Plus Under 350 Reviews           int64\n",
              "Under 10K Over 350 Reviews           int64\n",
              "New Listings within 12 Months        int64\n",
              "Page 1 Avg Revenue                   int64\n",
              "Page 1 Avg Price                     int64\n",
              "Page 1 Avg Reviews                   int64\n",
              "dtype: object\n",
              "\\nSample Data:\\n              keyword  Under 100 Reviews Top 15 Organic  \\\n",
              "0  acrylic for fridge                                10   \n",
              "\n",
              "   2K Plus Under 100 Reviews  10K Plus Under 350 Reviews  \\\n",
              "0                         16                           5   \n",
              "\n",
              "   Under 10K Over 350 Reviews  New Listings within 12 Months  \\\n",
              "0                           1                             54   \n",
              "\n",
              "   Page 1 Avg Revenue  Page 1 Avg Price  Page 1 Avg Reviews  \n",
              "0                8400                23                  52  \n",
              "\\n\n",
              "Summary Statistics:\\n       Under 100 Reviews Top 15 Organic  2K Plus Under 100 Reviews  \\\n",
              "count                               1.0                        1.0   \n",
              "mean                               10.0                       16.0   \n",
              "std                                 NaN                        NaN   \n",
              "min                                10.0                       16.0   \n",
              "25%                                10.0                       16.0   \n",
              "50%                                10.0                       16.0   \n",
              "75%                                10.0                       16.0   \n",
              "max                                10.0                       16.0   \n",
              "\n",
              "       10K Plus Under 350 Reviews  Under 10K Over 350 Reviews  \\\n",
              "count                         1.0                         1.0   \n",
              "mean                          5.0                         1.0   \n",
              "std                           NaN                         NaN   \n",
              "min                           5.0                         1.0   \n",
              "25%                           5.0                         1.0   \n",
              "50%                           5.0                         1.0   \n",
              "75%                           5.0                         1.0   \n",
              "max                           5.0                         1.0   \n",
              "\n",
              "       New Listings within 12 Months  Page 1 Avg Revenue  Page 1 Avg Price  \\\n",
              "count                            1.0                 1.0               1.0   \n",
              "mean                            54.0              8400.0              23.0   \n",
              "std                              NaN                 NaN               NaN   \n",
              "min                             54.0              8400.0              23.0   \n",
              "25%                             54.0              8400.0              23.0   \n",
              "50%                             54.0              8400.0              23.0   \n",
              "75%                             54.0              8400.0              23.0   \n",
              "max                             54.0              8400.0              23.0   \n",
              "\n",
              "       Page 1 Avg Reviews  \n",
              "count                 1.0  \n",
              "mean                 52.0  \n",
              "std                   NaN  \n",
              "min                  52.0  \n",
              "25%                  52.0  \n",
              "50%                  52.0  \n",
              "75%                  52.0  \n",
              "max                  52.0  \n",
              "\\nFile info:\\nNone\n",
              "\\nMissing Values:\\nkeyword                             0\n",
              "Under 100 Reviews Top 15 Organic    0\n",
              "2K Plus Under 100 Reviews           0\n",
              "10K Plus Under 350 Reviews          0\n",
              "Under 10K Over 350 Reviews          0\n",
              "New Listings within 12 Months       0\n",
              "Page 1 Avg Revenue                  0\n",
              "Page 1 Avg Price                    0\n",
              "Page 1 Avg Reviews                  0\n",
              "dtype: int64`;\n",
              "                navigator.clipboard.writeText(textToCopy);\n",
              "                alert('Output copied to clipboard!');\n",
              "            }\n",
              "            "
            ]
          },
          "metadata": {}
        }
      ]
    },
    {
      "cell_type": "markdown",
      "source": [
        "## Pase the ChatGPT Code here"
      ],
      "metadata": {
        "id": "qWwqKawkMYIG"
      }
    },
    {
      "cell_type": "code",
      "source": [],
      "metadata": {
        "id": "n_-psb7zgFDm"
      },
      "execution_count": null,
      "outputs": []
    }
  ]
}