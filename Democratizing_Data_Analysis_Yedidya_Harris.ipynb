{
  "nbformat": 4,
  "nbformat_minor": 0,
  "metadata": {
    "colab": {
      "provenance": [],
      "toc_visible": true,
      "authorship_tag": "ABX9TyNOEwe+4VdpV+FozzX6+CWK",
      "include_colab_link": true
    },
    "kernelspec": {
      "name": "python3",
      "display_name": "Python 3"
    },
    "language_info": {
      "name": "python"
    }
  },
  "cells": [
    {
      "cell_type": "markdown",
      "metadata": {
        "id": "view-in-github",
        "colab_type": "text"
      },
      "source": [
        "<a href=\"https://colab.research.google.com/github/deedeeharris/AI/blob/main/Democratizing_Data_Analysis_Yedidya_Harris.ipynb\" target=\"_parent\"><img src=\"https://colab.research.google.com/assets/colab-badge.svg\" alt=\"Open In Colab\"/></a>"
      ]
    },
    {
      "cell_type": "markdown",
      "source": [
        "# Democratizing Data Analysis\n",
        "\n",
        "**Yedidya Harris**\n",
        "\n",
        "<div align=\"left\">\n",
        "  <a href=\"https://github.com/deedeeharris/\" style=\"text-decoration:none;\">\n",
        "    <img src=\"https://github.com/ultralytics/assets/raw/main/social/logo-social-github.png\" width=\"2%\" alt=\"\" /></a>\n",
        "  <img src=\"https://github.com/ultralytics/assets/raw/main/social/logo-transparent.png\" width=\"2%\" alt=\"\" />\n",
        "  <a href=\"https://www.linkedin.com/in/yedidya-harris\" style=\"text-decoration:none;\">\n",
        "    <img src=\"https://github.com/ultralytics/assets/raw/main/social/logo-social-linkedin.png\" width=\"2%\" alt=\"\" /></a></a>\n",
        "<br></br>\n",
        "\n",
        "Analyze your data **without knowing a single line of code!**\n",
        "\n",
        "Introducing \"Democratizing Data Analysis\" - a user-friendly tool that generates Python code for you. Upload your data, copy the prompt, and paste it into ChatGPT. Explore your data effortlessly and make data-driven decisions with ease. Try \"Democratizing Data Analysis\" now!\n",
        "\n",
        "**Instructions:**\n",
        "\n",
        "1. **Fill in below** your first question regarding your data.\n",
        "2. Press the \"Play\" button, to run the code cell.\n",
        "3. Upload a CSV or Excel file using the \"Choose Files\" button.\n",
        "4. After uploading the file, a prompt will be generated with the necessary information to assist you with data analysis and visualization.\n",
        "5. Copy the entire prompt (using the \"Copy\" button).\n",
        "6. Open the ChatGPT interface here: https://chat.openai.com/\n",
        "7. Paste the text that was copied into the ChatGPT window to receive Python code for your data analysis task.\n",
        "8. Copy the code that ChatGPT generated into a new code cell here.\n",
        "9. Press the \"Play\" button, and enjoy the new graph.\n",
        "\n",
        "To generate more graphs and insights, ask questions in the ChatGPT interface, and repeat step 8 and 9.\n",
        "\n",
        "\n",
        "**Congratulations! You can now visualize and analyze data without knowing a line of code.**\n",
        "\n",
        "\n",
        "\n",
        "\n"
      ],
      "metadata": {
        "id": "IJY6nXY5Mq-x"
      }
    },
    {
      "cell_type": "code",
      "source": [
        "# @title Fill in your first question, run and upload your file! { display-mode: \"form\" }\n",
        "\n",
        "from google.colab import files\n",
        "from IPython.display import HTML, Javascript, clear_output  # Import the clear_output function\n",
        "import pandas as pd\n",
        "import os\n",
        "# Data manipulation and analysis\n",
        "import pandas as pd\n",
        "import numpy as np\n",
        "\n",
        "# Data visualization\n",
        "import matplotlib.pyplot as plt\n",
        "import seaborn as sns\n",
        "import plotly.express as px\n",
        "import plotly.graph_objects as go\n",
        "\n",
        "# Statistical analysis\n",
        "from scipy import stats\n",
        "\n",
        "# Interactive data visualization (optional, but useful for complex plots)\n",
        "import plotly.express as px\n",
        "import plotly.graph_objects as go\n",
        "\n",
        "# Geospatial visualization (if working with geospatial data)\n",
        "import geopandas as gpd\n",
        "\n",
        "# Time series analysis (if working with time series data)\n",
        "import statsmodels.api as sm\n",
        "\n",
        "# Machine learning tools (if doing predictive analysis)\n",
        "from sklearn.model_selection import train_test_split\n",
        "from sklearn.preprocessing import StandardScaler\n",
        "\n",
        "\n",
        "\n",
        "First_Question = '' #@param {type:\"string\"}\n",
        "\n",
        "def upload_csv_or_excel(First_Question):\n",
        "    try:\n",
        "        print(\"Please upload a CSV or Excel file:\")\n",
        "        print(\"\\n\\n\")\n",
        "        uploaded = files.upload()\n",
        "\n",
        "        for file_name, file_content in uploaded.items():\n",
        "            if file_name.endswith('.csv'):\n",
        "                df = pd.read_csv(file_name)\n",
        "                file_type = \"CSV\"\n",
        "            elif file_name.endswith('.xlsx') or file_name.endswith('.xls'):\n",
        "                df = pd.read_excel(file_name)\n",
        "                file_type = \"Excel\"\n",
        "            else:\n",
        "                print(f\"Unsupported file format for {file_name}. Only CSV and Excel files are supported.\")\n",
        "                return\n",
        "\n",
        "            # Get the full file path\n",
        "            file_path = os.path.abspath(file_name)\n",
        "\n",
        "            print(\"\\n\\n\")\n",
        "\n",
        "            prompt = f\"\"\"\n",
        "Act as a senior Python Data Analyst. You will be provided with a file path of a xlsx file or a csv file, and information regarding it.\n",
        "Your task is to generate Python code according to the user's request, related to data analysis and visualization.\n",
        "You should return the entire code in one message. Please note that you should not return any additional explanations or markdown text,\n",
        "only the Python code with detailed comments.\n",
        "This is the path to my file: \"{file_path}\"\n",
        "\n",
        "My first task is: {First_Question}\n",
        "\"\"\"\n",
        "\n",
        "            summary_statistics = df.describe()\n",
        "            missing_values = df.isnull().sum()\n",
        "            df_info = df.info()\n",
        "            df_cols = df.columns\n",
        "            df_head = df.head()\n",
        "            df_dtypes = df.dtypes\n",
        "\n",
        "            # Generate the JavaScript code to copy the output to the clipboard\n",
        "            js_code = f'''\n",
        "            function copyToClipboard() {{\n",
        "                const textToCopy = `{prompt}\\n\\nColumns:\\\\n{df_cols}\\n\\\\nData Types:\\\\n{df_dtypes}\\n\\\\nSample Data:\\\\n{df_head}\\n\\\\n\n",
        "Summary Statistics:\\\\n{summary_statistics}\\n\\\\nFile info:\\\\n{df_info}\\n\\\\nMissing Values:\\\\n{missing_values}`;\n",
        "                navigator.clipboard.writeText(textToCopy);\n",
        "                alert('Output copied to clipboard!');\n",
        "            }}\n",
        "            '''\n",
        "\n",
        "            # Clear the output on the screen before displaying the button\n",
        "            clear_output()\n",
        "\n",
        "            print(\"\\n\\n\")\n",
        "\n",
        "            # Display the copy button using HTML and JavaScript\n",
        "            display(HTML('<button onclick=\"copyToClipboard()\">Click Here to Copy</button>'))\n",
        "            display(Javascript(js_code))\n",
        "\n",
        "            return df\n",
        "\n",
        "    except Exception as e:\n",
        "        print(\"An error occurred:\", str(e))\n",
        "\n",
        "\n",
        "df = upload_csv_or_excel(First_Question)\n"
      ],
      "metadata": {
        "id": "Vz7FeSs6fdsi"
      },
      "execution_count": null,
      "outputs": []
    },
    {
      "cell_type": "markdown",
      "source": [
        "## Paste the ChatGPT Code here"
      ],
      "metadata": {
        "id": "qWwqKawkMYIG"
      }
    },
    {
      "cell_type": "code",
      "source": [],
      "metadata": {
        "id": "_aFNazv0iXkG"
      },
      "execution_count": null,
      "outputs": []
    },
    {
      "cell_type": "code",
      "source": [],
      "metadata": {
        "id": "JhjvVJqlialg"
      },
      "execution_count": null,
      "outputs": []
    }
  ]
}