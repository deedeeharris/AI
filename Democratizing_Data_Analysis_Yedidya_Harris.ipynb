{
  "nbformat": 4,
  "nbformat_minor": 0,
  "metadata": {
    "colab": {
      "provenance": [],
      "toc_visible": true,
      "authorship_tag": "ABX9TyOG3OsuxTMW+eIO9arefz0z",
      "include_colab_link": true
    },
    "kernelspec": {
      "name": "python3",
      "display_name": "Python 3"
    },
    "language_info": {
      "name": "python"
    }
  },
  "cells": [
    {
      "cell_type": "markdown",
      "metadata": {
        "id": "view-in-github",
        "colab_type": "text"
      },
      "source": [
        "<a href=\"https://colab.research.google.com/github/deedeeharris/AI/blob/main/Democratizing_Data_Analysis_Yedidya_Harris.ipynb\" target=\"_parent\"><img src=\"https://colab.research.google.com/assets/colab-badge.svg\" alt=\"Open In Colab\"/></a>"
      ]
    },
    {
      "cell_type": "markdown",
      "source": [
        "# Democratizing Data Analysis\n",
        "\n",
        "**Yedidya Harris**\n",
        "\n",
        "<div align=\"left\">\n",
        "  <a href=\"https://github.com/deedeeharris/\" style=\"text-decoration:none;\">\n",
        "    <img src=\"https://github.com/ultralytics/assets/raw/main/social/logo-social-github.png\" width=\"2%\" alt=\"\" /></a>\n",
        "  <img src=\"https://github.com/ultralytics/assets/raw/main/social/logo-transparent.png\" width=\"2%\" alt=\"\" />\n",
        "  <a href=\"https://www.linkedin.com/in/yedidya-harris\" style=\"text-decoration:none;\">\n",
        "    <img src=\"https://github.com/ultralytics/assets/raw/main/social/logo-social-linkedin.png\" width=\"2%\" alt=\"\" /></a></a>\n",
        "<br></br>\n",
        "\n",
        "Analyze your data **without knowing a single line of code!**\n",
        "\n",
        "Introducing \"Democratizing Data Analysis\" - a user-friendly tool that generates Python code for you. Upload your data, copy the prompt, and paste it into ChatGPT. Explore your data effortlessly and make data-driven decisions with ease. Try \"Democratizing Data Analysis\" now!\n",
        "\n",
        "**Instructions:**\n",
        "\n",
        "1. Fill out your first question regarding your data.\n",
        "2. Press the play button, to run the code cell.\n",
        "3. Upload a CSV or Excel file using the \"Choose Files\" button.\n",
        "3. After uploading the file, a prompt will be generated with the necessary information to assist you with data analysis and visualization.\n",
        "4. Copy the entire prompt (using the COPY button) and paste it into the ChatGPT window to receive Python code for your data analysis task.\n",
        "5. Copy the code that ChatGPT generated into a new code cell here.\n",
        "6. Press the play button, and enjoy the new graph.\n",
        "\n",
        "\n",
        "**Congratulations! You can now visualize and analyze data without knowing a line of code.**\n",
        "\n",
        "\n",
        "\n",
        "\n"
      ],
      "metadata": {
        "id": "IJY6nXY5Mq-x"
      }
    },
    {
      "cell_type": "code",
      "source": [
        "# @title Fill in your first question, run and upload your file! { display-mode: \"form\" }\n",
        "\n",
        "\n",
        "from google.colab import files\n",
        "from IPython.display import HTML, Javascript\n",
        "import pandas as pd\n",
        "import os\n",
        "\n",
        "First_Question = '' #@param {type:\"string\"}\n",
        "\n",
        "def upload_csv_or_excel(First_Question):\n",
        "    try:\n",
        "        print(\"Please upload a CSV or Excel file:\")\n",
        "        uploaded = files.upload()\n",
        "\n",
        "        for file_name, file_content in uploaded.items():\n",
        "            if file_name.endswith('.csv'):\n",
        "                df = pd.read_csv(file_name)\n",
        "                file_type = \"CSV\"\n",
        "            elif file_name.endswith('.xlsx') or file_name.endswith('.xls'):\n",
        "                df = pd.read_excel(file_name)\n",
        "                file_type = \"Excel\"\n",
        "            else:\n",
        "                print(f\"Unsupported file format for {file_name}. Only CSV and Excel files are supported.\")\n",
        "                return\n",
        "\n",
        "            # Get the full file path\n",
        "            file_path = os.path.abspath(file_name)\n",
        "\n",
        "            print(\"\\n\\n\")\n",
        "\n",
        "            prompt = f\"\"\"\n",
        "Act as a senior Python Data Analyst. You will be provided with a file path of a xlsx\\csv file, and information regarding it.\n",
        "Your task is to generate Python code according to the user's request, related to data analysis and visualization.\n",
        "You should return the entire code in one message. Please note that you should not return any additional explanations or markdown text,\n",
        "only the Python code with detailed comments.\n",
        "This is the path to my file: \"{file_path}\"\\n\n",
        "\n",
        "My first task is: {First_Question}\n",
        "\"\"\"\n",
        "\n",
        "            # EDA - Summary Statistics\n",
        "            summary_statistics = df.describe()\n",
        "\n",
        "            # EDA - Missing Values\n",
        "            missing_values = df.isnull().sum()\n",
        "\n",
        "            # Generate the JavaScript code to copy the output to the clipboard\n",
        "            js_code = f'''\n",
        "            function copyToClipboard() {{\n",
        "                const textToCopy = `{prompt}\\n\\nColumns:\\\\n{df.columns}\\n\\\\nData Types:\\\\n{df.dtypes}\\n\\\\nSample Data:\\\\n{df.head()}\\n\\\\n\n",
        "Summary Statistics:\\\\n{summary_statistics}\\n\\\\nFile info:\\\\n{df.info()}\\n\\\\nMissing Values:\\\\n{missing_values}`;\n",
        "                navigator.clipboard.writeText(textToCopy);\n",
        "                alert('Output copied to clipboard!');\n",
        "            }}\n",
        "            '''\n",
        "\n",
        "            # Display the copy button using HTML and JavaScript\n",
        "            display(HTML('<button onclick=\"copyToClipboard()\">Copy Output</button>'))\n",
        "            display(Javascript(js_code))\n",
        "\n",
        "    except Exception as e:\n",
        "        print(\"An error occurred:\", str(e))\n",
        "\n",
        "upload_csv_or_excel(First_Question)\n"
      ],
      "metadata": {
        "id": "XmHfTm5iBnWC"
      },
      "execution_count": null,
      "outputs": []
    },
    {
      "cell_type": "markdown",
      "source": [
        "## Pase the ChatGPT Code here"
      ],
      "metadata": {
        "id": "qWwqKawkMYIG"
      }
    },
    {
      "cell_type": "code",
      "source": [
        "# Paste here the code that ChatGPT wrote for you\n",
        "\n"
      ],
      "metadata": {
        "id": "RWUweDSzRQ56"
      },
      "execution_count": null,
      "outputs": []
    }
  ]
}